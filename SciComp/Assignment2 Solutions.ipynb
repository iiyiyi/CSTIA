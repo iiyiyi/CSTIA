{
 "cells": [
  {
   "cell_type": "code",
   "execution_count": 8,
   "metadata": {},
   "outputs": [
    {
     "name": "stdout",
     "output_type": "stream",
     "text": [
      "Requirement already up-to-date: ucamcl in /home/yiyi/myPyEnv/lib/python3.6/site-packages (1.0.2)\n",
      "Requirement already satisfied, skipping upgrade: requests in /home/yiyi/myPyEnv/lib/python3.6/site-packages (from ucamcl) (2.21.0)\n",
      "Requirement already satisfied, skipping upgrade: cryptography>=2.0 in /home/yiyi/myPyEnv/lib/python3.6/site-packages (from ucamcl) (2.4.2)\n",
      "Requirement already satisfied, skipping upgrade: certifi>=2017.4.17 in /home/yiyi/myPyEnv/lib/python3.6/site-packages (from requests->ucamcl) (2018.11.29)\n",
      "Requirement already satisfied, skipping upgrade: chardet<3.1.0,>=3.0.2 in /home/yiyi/myPyEnv/lib/python3.6/site-packages (from requests->ucamcl) (3.0.4)\n",
      "Requirement already satisfied, skipping upgrade: urllib3<1.25,>=1.21.1 in /home/yiyi/myPyEnv/lib/python3.6/site-packages (from requests->ucamcl) (1.24.1)\n",
      "Requirement already satisfied, skipping upgrade: idna<2.9,>=2.5 in /home/yiyi/myPyEnv/lib/python3.6/site-packages (from requests->ucamcl) (2.8)\n",
      "Requirement already satisfied, skipping upgrade: six>=1.4.1 in /home/yiyi/myPyEnv/lib/python3.6/site-packages (from cryptography>=2.0->ucamcl) (1.11.0)\n",
      "Requirement already satisfied, skipping upgrade: cffi!=1.11.3,>=1.7 in /home/yiyi/myPyEnv/lib/python3.6/site-packages (from cryptography>=2.0->ucamcl) (1.11.5)\n",
      "Requirement already satisfied, skipping upgrade: asn1crypto>=0.21.0 in /home/yiyi/myPyEnv/lib/python3.6/site-packages (from cryptography>=2.0->ucamcl) (0.24.0)\n",
      "Requirement already satisfied, skipping upgrade: pycparser in /home/yiyi/myPyEnv/lib/python3.6/site-packages (from cffi!=1.11.3,>=1.7->cryptography>=2.0->ucamcl) (2.19)\n",
      "\u001b[33mYou are using pip version 18.1, however version 19.0.1 is available.\n",
      "You should consider upgrading via the 'pip install --upgrade pip' command.\u001b[0m\n"
     ]
    }
   ],
   "source": [
    "# Import modules, and give them short aliases so we can write e.g. np.foo rather than numpy.foo\n",
    "!pip install ucamcl --upgrade\n",
    "import ucamcl\n",
    "import math, random\n",
    "import numpy as np\n",
    "import matplotlib.pyplot as plt\n",
    "import scipy\n",
    "import scipy.optimize\n",
    "import pandas\n",
    "# The next line is a piece of magic, to let plots appear in our Jupyter notebooks\n",
    "%matplotlib inline"
   ]
  },
  {
   "cell_type": "markdown",
   "metadata": {},
   "source": [
    "# Part a\n",
    "## Question 1"
   ]
  },
  {
   "cell_type": "code",
   "execution_count": 1,
   "metadata": {},
   "outputs": [
    {
     "name": "stdout",
     "output_type": "stream",
     "text": [
      "Waiting for you to log in .... done.\n",
      "Correct!\n"
     ]
    },
    {
     "data": {
      "text/plain": [
       "True"
      ]
     },
     "execution_count": 1,
     "metadata": {},
     "output_type": "execute_result"
    }
   ],
   "source": [
    "def pairs (n):\n",
    "    m = np.random.permutation(n).reshape((2,n//2))\n",
    "    return (m[0], m[1])\n",
    "\n",
    "GRADER = ucamcl.autograder('https://markmy.solutions', course='scicomp', section='assignment2a')\n",
    "q = GRADER.fetch_question('q1')\n",
    "m1,m2 = pairs(q.n)\n",
    "ans = {'n': len(np.unique(np.concatenate([m1,m2]))), 's': np.std(np.abs(m1-m2))}\n",
    "GRADER.submit_answer(q, ans)"
   ]
  },
  {
   "cell_type": "markdown",
   "metadata": {},
   "source": [
    "## Question 2"
   ]
  },
  {
   "cell_type": "code",
   "execution_count": 2,
   "metadata": {},
   "outputs": [
    {
     "name": "stdout",
     "output_type": "stream",
     "text": [
      "Waiting for you to log in ..... done.\n",
      "Correct!\n"
     ]
    },
    {
     "data": {
      "text/plain": [
       "True"
      ]
     },
     "execution_count": 2,
     "metadata": {},
     "output_type": "execute_result"
    }
   ],
   "source": [
    "def kinetic_exchange(v, w):\n",
    "    R = np.random.rand(1,len(v))\n",
    "    return R * (v + w), (1 - R) * (v + w)\n",
    "\n",
    "GRADER = ucamcl.autograder('https://markmy.solutions', course='scicomp', section='assignment2a')\n",
    "q = GRADER.fetch_question('q2')\n",
    "v,w = np.linspace(1,5,q.n), np.linspace(1,2,q.n)**q.p\n",
    "vnew,wnew = kinetic_exchange(v,w)\n",
    "ans = {'m1': np.mean(vnew), 's2': np.std(wnew)}\n",
    "GRADER.submit_answer(q, ans)"
   ]
  },
  {
   "cell_type": "markdown",
   "metadata": {},
   "source": [
    "## Question 3"
   ]
  },
  {
   "cell_type": "code",
   "execution_count": 7,
   "metadata": {
    "scrolled": true
   },
   "outputs": [
    {
     "name": "stdout",
     "output_type": "stream",
     "text": [
      "Waiting for you to log in .. done.\n",
      "Correct!\n"
     ]
    },
    {
     "data": {
      "text/plain": [
       "True"
      ]
     },
     "execution_count": 7,
     "metadata": {},
     "output_type": "execute_result"
    }
   ],
   "source": [
    "def gini(w):\n",
    "    w = np.sort(w)\n",
    "    N = len(w)\n",
    "    i = np.arange(1,N+1)\n",
    "    return 2 * np.sum(i * w) / (N * np.sum(w)) - (1 + 1/N)\n",
    "\n",
    "GRADER = ucamcl.autograder('https://markmy.solutions', course='scicomp', section='assignment2a')\n",
    "q = GRADER.fetch_question('q3')\n",
    "w = np.linspace(0,1,q.n)**q.p\n",
    "g = gini(w)\n",
    "GRADER.submit_answer(q, {'g': g})"
   ]
  },
  {
   "cell_type": "markdown",
   "metadata": {},
   "source": [
    "## Question 4"
   ]
  },
  {
   "cell_type": "code",
   "execution_count": 9,
   "metadata": {},
   "outputs": [
    {
     "name": "stdout",
     "output_type": "stream",
     "text": [
      "Waiting for you to log in .. done.\n",
      "Correct!\n"
     ]
    },
    {
     "data": {
      "text/plain": [
       "True"
      ]
     },
     "execution_count": 9,
     "metadata": {},
     "output_type": "execute_result"
    }
   ],
   "source": [
    "def sim(N,T):\n",
    "    wealth = np.full(N, fill_value = 1.0)\n",
    "    gs = np.zeros(T)\n",
    "    for i in range(1, T):\n",
    "        m1, m2 = pairs(N)\n",
    "        vin = wealth[m1]\n",
    "        win = wealth[m2]\n",
    "        vnew, wnew = kinetic_exchange(vin,win)\n",
    "        wealth[m1] = vnew\n",
    "        wealth[m2] = wnew\n",
    "        gs[i] = gini(wealth)\n",
    "    return(wealth, gs)\n",
    "\n",
    "GRADER = ucamcl.autograder('https://markmy.solutions', course='scicomp', section='assignment2a')\n",
    "q = GRADER.fetch_question('q4')\n",
    "w,gs = sim(q.n, q.t)\n",
    "ans = {'gm': np.mean(gs[int(q.t/2):]), 'gs': np.std(gs[int(q.t/2):]), 'ws': np.std(w)}\n",
    "GRADER.submit_answer(q, ans)"
   ]
  },
  {
   "cell_type": "markdown",
   "metadata": {},
   "source": [
    "## Question 5"
   ]
  },
  {
   "cell_type": "code",
   "execution_count": 11,
   "metadata": {},
   "outputs": [
    {
     "data": {
      "image/png": "[encoded data removed]",
      "text/plain": [
       "<Figure size 432x288 with 1 Axes>"
      ]
     },
     "metadata": {},
     "output_type": "display_data"
    }
   ],
   "source": [
    "w, gs = sim(500000,30)\n",
    "plt.plot( np.arange(30) ,gs, linestyle='-', linewidth=1, color='blue')\n",
    "plt.show()"
   ]
  },
  {
   "cell_type": "markdown",
   "metadata": {},
   "source": [
    "# Part b"
   ]
  },
  {
   "cell_type": "markdown",
   "metadata": {},
   "source": [
    "## Question 6"
   ]
  },
  {
   "cell_type": "code",
   "execution_count": 16,
   "metadata": {},
   "outputs": [
    {
     "name": "stdout",
     "output_type": "stream",
     "text": [
      "Waiting for you to log in .. done.\n",
      "Correct!\n"
     ]
    },
    {
     "data": {
      "text/plain": [
       "True"
      ]
     },
     "execution_count": 16,
     "metadata": {},
     "output_type": "execute_result"
    }
   ],
   "source": [
    "GRADER = ucamcl.autograder('https://markmy.solutions', course='scicomp', section='assignment2b')\n",
    "q = GRADER.fetch_question('q6')\n",
    "GRADER.submit_answer(q, (25-5-4*2)/25)"
   ]
  },
  {
   "cell_type": "markdown",
   "metadata": {},
   "source": [
    "## Question 7"
   ]
  },
  {
   "cell_type": "code",
   "execution_count": 13,
   "metadata": {},
   "outputs": [
    {
     "name": "stdout",
     "output_type": "stream",
     "text": [
      "Waiting for you to log in .... done.\n",
      "Correct!\n"
     ]
    },
    {
     "data": {
      "text/plain": [
       "True"
      ]
     },
     "execution_count": 13,
     "metadata": {},
     "output_type": "execute_result"
    }
   ],
   "source": [
    "def mobility(v, w):\n",
    "    before_quintile = np.digitize (v, np.percentile(v, np.linspace(20,100,5)))\n",
    "    after_quintile = np.digitize (w, np.percentile(w, np.linspace(20,100,5)))\n",
    "    change = np.absolute (before_quintile - after_quintile)\n",
    "    morethan1 = change[np.where(change>1)]\n",
    "    return (len(morethan1)/len(v))\n",
    "\n",
    "GRADER = ucamcl.autograder('https://markmy.solutions', course='scicomp', section='assignment2b')\n",
    "q = GRADER.fetch_question('q7')\n",
    "v,w = np.arange(q.n)**q.a, np.arange(q.n)**q.a * np.random.random(q.n)\n",
    "GRADER.submit_answer(q, mobility(v,w))"
   ]
  },
  {
   "cell_type": "markdown",
   "metadata": {},
   "source": [
    "## Question 8"
   ]
  },
  {
   "cell_type": "code",
   "execution_count": 14,
   "metadata": {},
   "outputs": [
    {
     "name": "stdout",
     "output_type": "stream",
     "text": [
      "Waiting for you to log in .. done.\n",
      "Correct!\n"
     ]
    },
    {
     "data": {
      "text/plain": [
       "True"
      ]
     },
     "execution_count": 14,
     "metadata": {},
     "output_type": "execute_result"
    }
   ],
   "source": [
    "def simulation(N, qt):\n",
    "    def furtherSim(T):\n",
    "        wealth = np.full(shape=(T,N), fill_value = 1.0)\n",
    "        for i in range(1, T):\n",
    "            m1, m2 = pairs(N)\n",
    "            vin = wealth[i-1][m1]\n",
    "            win = wealth[i-1][m2]\n",
    "            vnew, wnew = kinetic_exchange(vin,win)\n",
    "            wealth[i][m1] = vnew\n",
    "            wealth[i][m2] = wnew\n",
    "        return wealth\n",
    "\n",
    "    w = furtherSim(200+qt)\n",
    "    ans = mobility(w[199], w[199+qt])\n",
    "    return ans\n",
    "\n",
    "GRADER = ucamcl.autograder('https://markmy.solutions', course='scicomp', section='assignment2b')\n",
    "q = GRADER.fetch_question('q8')\n",
    "GRADER.submit_answer(q, simulation(q.n, q.t))"
   ]
  },
  {
   "cell_type": "markdown",
   "metadata": {},
   "source": [
    "## Question 9"
   ]
  },
  {
   "cell_type": "code",
   "execution_count": 18,
   "metadata": {},
   "outputs": [
    {
     "name": "stdout",
     "output_type": "stream",
     "text": [
      "[0.       0.290952 0.40067  0.44504  0.462984 0.472098 0.475614 0.477312\n",
      " 0.479688 0.479466 0.47993  0.478924 0.47933  0.480634 0.47968  0.479456\n",
      " 0.479916 0.480176 0.480256 0.47928  0.48017  0.481168 0.48039  0.479198\n",
      " 0.479758 0.479576 0.479138 0.480708 0.479612 0.479618]\n"
     ]
    },
    {
     "data": {
      "image/png": "[encoded data removed]",
      "text/plain": [
       "<Figure size 432x288 with 1 Axes>"
      ]
     },
     "metadata": {},
     "output_type": "display_data"
    }
   ],
   "source": [
    "y = np.full(30, 0.0)\n",
    "for i in range(30):\n",
    "    y[i] = simulation(500000, i)\n",
    "print(y)\n",
    "plt.plot( np.arange(30) ,y, linestyle='-', linewidth=1, color='blue')\n",
    "plt.ylabel(\"Fraction who move by more than one quintile\")\n",
    "plt.xlabel(\"Timestep\")\n",
    "plt.axis([0,30,0,0.5])\n",
    "plt.show()"
   ]
  }
 ],
 "metadata": {
  "kernelspec": {
   "display_name": "Python 3",
   "language": "python",
   "name": "python3"
  },
  "language_info": {
   "codemirror_mode": {
    "name": "ipython",
    "version": 3
   },
   "file_extension": ".py",
   "mimetype": "text/x-python",
   "name": "python",
   "nbconvert_exporter": "python",
   "pygments_lexer": "ipython3",
   "version": "3.6.5"
  }
 },
 "nbformat": 4,
 "nbformat_minor": 2
}
