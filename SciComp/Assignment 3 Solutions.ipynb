{
 "cells": [
  {
   "cell_type": "markdown",
   "metadata": {},
   "source": [
    "# Part A\n",
    "## Question 1"
   ]
  },
  {
   "cell_type": "code",
   "execution_count": 2,
   "metadata": {},
   "outputs": [
    {
     "name": "stdout",
     "output_type": "stream",
     "text": [
      "Waiting for you to log in .. done.\n"
     ]
    }
   ],
   "source": [
    "# Import modules, and give them short aliases so we can write e.g. np.foo rather than numpy.foo\n",
    "import numpy as np\n",
    "import pandas\n",
    "import matplotlib\n",
    "import matplotlib.pyplot as plt\n",
    "# The next line is a piece of magic, to let plots appear in our Jupyter notebooks\n",
    "%matplotlib inline \n",
    "!pip install ucamcl --upgrade\n",
    "import ucamcl\n",
    "import numpy as np\n",
    "GRADER = ucamcl.autograder('https://markmy.solutions', course='scicomp', section='assignment3a')"
   ]
  },
  {
   "cell_type": "code",
   "execution_count": 2,
   "metadata": {},
   "outputs": [
    {
     "name": "stdout",
     "output_type": "stream",
     "text": [
      "file already downloaded\n"
     ]
    }
   ],
   "source": [
    "# Execute a unix command to download a file (if it's not already downloaded), and show download progress\n",
    "import os.path\n",
    "if os.path.exists('flood.csv'):\n",
    "    print(\"file already downloaded\")\n",
    "else:\n",
    "    !wget \"https://teachingfiles.blob.core.windows.net/scicomp/flood.csv\""
   ]
  },
  {
   "cell_type": "code",
   "execution_count": 3,
   "metadata": {},
   "outputs": [
    {
     "data": {
      "text/html": [
       "<div>\n",
       "<style scoped>\n",
       "    .dataframe tbody tr th:only-of-type {\n",
       "        vertical-align: middle;\n",
       "    }\n",
       "\n",
       "    .dataframe tbody tr th {\n",
       "        vertical-align: top;\n",
       "    }\n",
       "\n",
       "    .dataframe thead th {\n",
       "        text-align: right;\n",
       "    }\n",
       "</style>\n",
       "<table border=\"1\" class=\"dataframe\">\n",
       "  <thead>\n",
       "    <tr style=\"text-align: right;\">\n",
       "      <th></th>\n",
       "      <th>label</th>\n",
       "      <th>id</th>\n",
       "      <th>lat</th>\n",
       "      <th>lng</th>\n",
       "      <th>town</th>\n",
       "      <th>river</th>\n",
       "      <th>measure_id</th>\n",
       "      <th>qualifier</th>\n",
       "      <th>parameter</th>\n",
       "      <th>period</th>\n",
       "      <th>low</th>\n",
       "      <th>high</th>\n",
       "      <th>valuetype</th>\n",
       "      <th>t</th>\n",
       "      <th>value</th>\n",
       "    </tr>\n",
       "  </thead>\n",
       "  <tbody>\n",
       "    <tr>\n",
       "      <th>12143</th>\n",
       "      <td>Weston Bampfylde</td>\n",
       "      <td>52113</td>\n",
       "      <td>51.023159</td>\n",
       "      <td>-2.565568</td>\n",
       "      <td>Weston Bampfylde</td>\n",
       "      <td>River Cam</td>\n",
       "      <td>919</td>\n",
       "      <td>Stage</td>\n",
       "      <td>Water Level</td>\n",
       "      <td>900.0</td>\n",
       "      <td>0.026</td>\n",
       "      <td>0.600</td>\n",
       "      <td>instantaneous</td>\n",
       "      <td>2017-08-23T08:30:00Z</td>\n",
       "      <td>0.067</td>\n",
       "    </tr>\n",
       "    <tr>\n",
       "      <th>13613</th>\n",
       "      <td>Cambridge Baits Bite</td>\n",
       "      <td>E60101</td>\n",
       "      <td>52.236542</td>\n",
       "      <td>0.176925</td>\n",
       "      <td>Milton</td>\n",
       "      <td>River Cam</td>\n",
       "      <td>1455</td>\n",
       "      <td>Stage</td>\n",
       "      <td>Water Level</td>\n",
       "      <td>900.0</td>\n",
       "      <td>0.218</td>\n",
       "      <td>0.294</td>\n",
       "      <td>instantaneous</td>\n",
       "      <td>2017-08-10T17:15:00Z</td>\n",
       "      <td>0.240</td>\n",
       "    </tr>\n",
       "    <tr>\n",
       "      <th>1633</th>\n",
       "      <td>Cambridge Jesus Lock</td>\n",
       "      <td>E60501</td>\n",
       "      <td>52.212835</td>\n",
       "      <td>0.120872</td>\n",
       "      <td>Cambridge</td>\n",
       "      <td>River Cam</td>\n",
       "      <td>1702</td>\n",
       "      <td>Stage</td>\n",
       "      <td>Water Level</td>\n",
       "      <td>900.0</td>\n",
       "      <td>0.637</td>\n",
       "      <td>0.740</td>\n",
       "      <td>instantaneous</td>\n",
       "      <td>2017-08-24T05:00:00Z</td>\n",
       "      <td>0.676</td>\n",
       "    </tr>\n",
       "    <tr>\n",
       "      <th>1783</th>\n",
       "      <td>Cambridge Jesus Lock</td>\n",
       "      <td>E60501</td>\n",
       "      <td>52.212835</td>\n",
       "      <td>0.120872</td>\n",
       "      <td>Cambridge</td>\n",
       "      <td>River Cam</td>\n",
       "      <td>1702</td>\n",
       "      <td>Stage</td>\n",
       "      <td>Water Level</td>\n",
       "      <td>900.0</td>\n",
       "      <td>0.637</td>\n",
       "      <td>0.740</td>\n",
       "      <td>instantaneous</td>\n",
       "      <td>2017-08-25T08:00:00Z</td>\n",
       "      <td>0.669</td>\n",
       "    </tr>\n",
       "    <tr>\n",
       "      <th>16026</th>\n",
       "      <td>Cam</td>\n",
       "      <td>2514</td>\n",
       "      <td>51.699985</td>\n",
       "      <td>-2.360238</td>\n",
       "      <td>Cam</td>\n",
       "      <td>River Cam</td>\n",
       "      <td>1636</td>\n",
       "      <td>Stage</td>\n",
       "      <td>Water Level</td>\n",
       "      <td>900.0</td>\n",
       "      <td>0.578</td>\n",
       "      <td>0.782</td>\n",
       "      <td>instantaneous</td>\n",
       "      <td>2017-08-08T13:00:00Z</td>\n",
       "      <td>0.809</td>\n",
       "    </tr>\n",
       "    <tr>\n",
       "      <th>3180</th>\n",
       "      <td>Dernford</td>\n",
       "      <td>E21737</td>\n",
       "      <td>52.134462</td>\n",
       "      <td>0.141784</td>\n",
       "      <td>Great Shelford</td>\n",
       "      <td>River Cam</td>\n",
       "      <td>1724</td>\n",
       "      <td>Stage</td>\n",
       "      <td>Water Level</td>\n",
       "      <td>900.0</td>\n",
       "      <td>0.127</td>\n",
       "      <td>0.395</td>\n",
       "      <td>instantaneous</td>\n",
       "      <td>2017-08-12T20:45:00Z</td>\n",
       "      <td>0.101</td>\n",
       "    </tr>\n",
       "    <tr>\n",
       "      <th>7308</th>\n",
       "      <td>Bin Brook</td>\n",
       "      <td>E19035</td>\n",
       "      <td>52.197227</td>\n",
       "      <td>0.087527</td>\n",
       "      <td>Cambridge</td>\n",
       "      <td>Bin Brook</td>\n",
       "      <td>1792</td>\n",
       "      <td>Stage</td>\n",
       "      <td>Water Level</td>\n",
       "      <td>900.0</td>\n",
       "      <td>0.057</td>\n",
       "      <td>0.368</td>\n",
       "      <td>instantaneous</td>\n",
       "      <td>2017-08-28T05:45:00Z</td>\n",
       "      <td>0.148</td>\n",
       "    </tr>\n",
       "    <tr>\n",
       "      <th>3673</th>\n",
       "      <td>Dernford</td>\n",
       "      <td>E21737</td>\n",
       "      <td>52.134462</td>\n",
       "      <td>0.141784</td>\n",
       "      <td>Great Shelford</td>\n",
       "      <td>River Cam</td>\n",
       "      <td>1724</td>\n",
       "      <td>Stage</td>\n",
       "      <td>Water Level</td>\n",
       "      <td>900.0</td>\n",
       "      <td>0.127</td>\n",
       "      <td>0.395</td>\n",
       "      <td>instantaneous</td>\n",
       "      <td>2017-08-17T11:45:00Z</td>\n",
       "      <td>0.099</td>\n",
       "    </tr>\n",
       "    <tr>\n",
       "      <th>17269</th>\n",
       "      <td>Cam</td>\n",
       "      <td>2514</td>\n",
       "      <td>51.699985</td>\n",
       "      <td>-2.360238</td>\n",
       "      <td>Cam</td>\n",
       "      <td>River Cam</td>\n",
       "      <td>1636</td>\n",
       "      <td>Stage</td>\n",
       "      <td>Water Level</td>\n",
       "      <td>900.0</td>\n",
       "      <td>0.578</td>\n",
       "      <td>0.782</td>\n",
       "      <td>instantaneous</td>\n",
       "      <td>2017-08-21T17:15:00Z</td>\n",
       "      <td>0.797</td>\n",
       "    </tr>\n",
       "    <tr>\n",
       "      <th>4880</th>\n",
       "      <td>Dernford</td>\n",
       "      <td>E21737</td>\n",
       "      <td>52.134462</td>\n",
       "      <td>0.141784</td>\n",
       "      <td>Great Shelford</td>\n",
       "      <td>River Cam</td>\n",
       "      <td>1724</td>\n",
       "      <td>Stage</td>\n",
       "      <td>Water Level</td>\n",
       "      <td>900.0</td>\n",
       "      <td>0.127</td>\n",
       "      <td>0.395</td>\n",
       "      <td>instantaneous</td>\n",
       "      <td>2017-08-30T00:30:00Z</td>\n",
       "      <td>0.082</td>\n",
       "    </tr>\n",
       "    <tr>\n",
       "      <th>17990</th>\n",
       "      <td>Cam</td>\n",
       "      <td>2514</td>\n",
       "      <td>51.699985</td>\n",
       "      <td>-2.360238</td>\n",
       "      <td>Cam</td>\n",
       "      <td>River Cam</td>\n",
       "      <td>1636</td>\n",
       "      <td>Stage</td>\n",
       "      <td>Water Level</td>\n",
       "      <td>900.0</td>\n",
       "      <td>0.578</td>\n",
       "      <td>0.782</td>\n",
       "      <td>instantaneous</td>\n",
       "      <td>2017-08-29T00:15:00Z</td>\n",
       "      <td>0.789</td>\n",
       "    </tr>\n",
       "    <tr>\n",
       "      <th>17115</th>\n",
       "      <td>Cam</td>\n",
       "      <td>2514</td>\n",
       "      <td>51.699985</td>\n",
       "      <td>-2.360238</td>\n",
       "      <td>Cam</td>\n",
       "      <td>River Cam</td>\n",
       "      <td>1636</td>\n",
       "      <td>Stage</td>\n",
       "      <td>Water Level</td>\n",
       "      <td>900.0</td>\n",
       "      <td>0.578</td>\n",
       "      <td>0.782</td>\n",
       "      <td>instantaneous</td>\n",
       "      <td>2017-08-20T04:00:00Z</td>\n",
       "      <td>0.791</td>\n",
       "    </tr>\n",
       "    <tr>\n",
       "      <th>12820</th>\n",
       "      <td>Weston Bampfylde</td>\n",
       "      <td>52113</td>\n",
       "      <td>51.023159</td>\n",
       "      <td>-2.565568</td>\n",
       "      <td>Weston Bampfylde</td>\n",
       "      <td>River Cam</td>\n",
       "      <td>919</td>\n",
       "      <td>Stage</td>\n",
       "      <td>Water Level</td>\n",
       "      <td>900.0</td>\n",
       "      <td>0.026</td>\n",
       "      <td>0.600</td>\n",
       "      <td>instantaneous</td>\n",
       "      <td>2017-08-30T15:15:00Z</td>\n",
       "      <td>0.067</td>\n",
       "    </tr>\n",
       "    <tr>\n",
       "      <th>2489</th>\n",
       "      <td>Cambridge Jesus Lock</td>\n",
       "      <td>E60501</td>\n",
       "      <td>52.212835</td>\n",
       "      <td>0.120872</td>\n",
       "      <td>Cambridge</td>\n",
       "      <td>River Cam</td>\n",
       "      <td>1702</td>\n",
       "      <td>Stage</td>\n",
       "      <td>Water Level</td>\n",
       "      <td>900.0</td>\n",
       "      <td>0.637</td>\n",
       "      <td>0.740</td>\n",
       "      <td>instantaneous</td>\n",
       "      <td>2017-09-01T18:00:00Z</td>\n",
       "      <td>0.662</td>\n",
       "    </tr>\n",
       "    <tr>\n",
       "      <th>13395</th>\n",
       "      <td>Cambridge Baits Bite</td>\n",
       "      <td>E60101</td>\n",
       "      <td>52.236542</td>\n",
       "      <td>0.176925</td>\n",
       "      <td>Milton</td>\n",
       "      <td>River Cam</td>\n",
       "      <td>1455</td>\n",
       "      <td>Stage</td>\n",
       "      <td>Water Level</td>\n",
       "      <td>900.0</td>\n",
       "      <td>0.218</td>\n",
       "      <td>0.294</td>\n",
       "      <td>instantaneous</td>\n",
       "      <td>2017-08-08T17:30:00Z</td>\n",
       "      <td>0.261</td>\n",
       "    </tr>\n",
       "    <tr>\n",
       "      <th>3641</th>\n",
       "      <td>Dernford</td>\n",
       "      <td>E21737</td>\n",
       "      <td>52.134462</td>\n",
       "      <td>0.141784</td>\n",
       "      <td>Great Shelford</td>\n",
       "      <td>River Cam</td>\n",
       "      <td>1724</td>\n",
       "      <td>Stage</td>\n",
       "      <td>Water Level</td>\n",
       "      <td>900.0</td>\n",
       "      <td>0.127</td>\n",
       "      <td>0.395</td>\n",
       "      <td>instantaneous</td>\n",
       "      <td>2017-08-17T06:30:00Z</td>\n",
       "      <td>0.092</td>\n",
       "    </tr>\n",
       "    <tr>\n",
       "      <th>3503</th>\n",
       "      <td>Dernford</td>\n",
       "      <td>E21737</td>\n",
       "      <td>52.134462</td>\n",
       "      <td>0.141784</td>\n",
       "      <td>Great Shelford</td>\n",
       "      <td>River Cam</td>\n",
       "      <td>1724</td>\n",
       "      <td>Stage</td>\n",
       "      <td>Water Level</td>\n",
       "      <td>900.0</td>\n",
       "      <td>0.127</td>\n",
       "      <td>0.395</td>\n",
       "      <td>instantaneous</td>\n",
       "      <td>2017-08-15T13:00:00Z</td>\n",
       "      <td>0.091</td>\n",
       "    </tr>\n",
       "    <tr>\n",
       "      <th>12483</th>\n",
       "      <td>Weston Bampfylde</td>\n",
       "      <td>52113</td>\n",
       "      <td>51.023159</td>\n",
       "      <td>-2.565568</td>\n",
       "      <td>Weston Bampfylde</td>\n",
       "      <td>River Cam</td>\n",
       "      <td>919</td>\n",
       "      <td>Stage</td>\n",
       "      <td>Water Level</td>\n",
       "      <td>900.0</td>\n",
       "      <td>0.026</td>\n",
       "      <td>0.600</td>\n",
       "      <td>instantaneous</td>\n",
       "      <td>2017-08-27T00:15:00Z</td>\n",
       "      <td>0.058</td>\n",
       "    </tr>\n",
       "    <tr>\n",
       "      <th>17729</th>\n",
       "      <td>Cam</td>\n",
       "      <td>2514</td>\n",
       "      <td>51.699985</td>\n",
       "      <td>-2.360238</td>\n",
       "      <td>Cam</td>\n",
       "      <td>River Cam</td>\n",
       "      <td>1636</td>\n",
       "      <td>Stage</td>\n",
       "      <td>Water Level</td>\n",
       "      <td>900.0</td>\n",
       "      <td>0.578</td>\n",
       "      <td>0.782</td>\n",
       "      <td>instantaneous</td>\n",
       "      <td>2017-08-25T22:45:00Z</td>\n",
       "      <td>0.790</td>\n",
       "    </tr>\n",
       "    <tr>\n",
       "      <th>15825</th>\n",
       "      <td>Cambridge Baits Bite</td>\n",
       "      <td>E60101</td>\n",
       "      <td>52.236542</td>\n",
       "      <td>0.176925</td>\n",
       "      <td>Milton</td>\n",
       "      <td>River Cam</td>\n",
       "      <td>1455</td>\n",
       "      <td>Stage</td>\n",
       "      <td>Water Level</td>\n",
       "      <td>900.0</td>\n",
       "      <td>0.218</td>\n",
       "      <td>0.294</td>\n",
       "      <td>instantaneous</td>\n",
       "      <td>2017-09-02T19:15:00Z</td>\n",
       "      <td>0.253</td>\n",
       "    </tr>\n",
       "  </tbody>\n",
       "</table>\n",
       "</div>"
      ],
      "text/plain": [
       "                      label      id        lat       lng              town  \\\n",
       "12143      Weston Bampfylde   52113  51.023159 -2.565568  Weston Bampfylde   \n",
       "13613  Cambridge Baits Bite  E60101  52.236542  0.176925            Milton   \n",
       "1633   Cambridge Jesus Lock  E60501  52.212835  0.120872         Cambridge   \n",
       "1783   Cambridge Jesus Lock  E60501  52.212835  0.120872         Cambridge   \n",
       "16026                   Cam    2514  51.699985 -2.360238               Cam   \n",
       "3180               Dernford  E21737  52.134462  0.141784    Great Shelford   \n",
       "7308              Bin Brook  E19035  52.197227  0.087527         Cambridge   \n",
       "3673               Dernford  E21737  52.134462  0.141784    Great Shelford   \n",
       "17269                   Cam    2514  51.699985 -2.360238               Cam   \n",
       "4880               Dernford  E21737  52.134462  0.141784    Great Shelford   \n",
       "17990                   Cam    2514  51.699985 -2.360238               Cam   \n",
       "17115                   Cam    2514  51.699985 -2.360238               Cam   \n",
       "12820      Weston Bampfylde   52113  51.023159 -2.565568  Weston Bampfylde   \n",
       "2489   Cambridge Jesus Lock  E60501  52.212835  0.120872         Cambridge   \n",
       "13395  Cambridge Baits Bite  E60101  52.236542  0.176925            Milton   \n",
       "3641               Dernford  E21737  52.134462  0.141784    Great Shelford   \n",
       "3503               Dernford  E21737  52.134462  0.141784    Great Shelford   \n",
       "12483      Weston Bampfylde   52113  51.023159 -2.565568  Weston Bampfylde   \n",
       "17729                   Cam    2514  51.699985 -2.360238               Cam   \n",
       "15825  Cambridge Baits Bite  E60101  52.236542  0.176925            Milton   \n",
       "\n",
       "           river  measure_id qualifier    parameter  period    low   high  \\\n",
       "12143  River Cam         919     Stage  Water Level   900.0  0.026  0.600   \n",
       "13613  River Cam        1455     Stage  Water Level   900.0  0.218  0.294   \n",
       "1633   River Cam        1702     Stage  Water Level   900.0  0.637  0.740   \n",
       "1783   River Cam        1702     Stage  Water Level   900.0  0.637  0.740   \n",
       "16026  River Cam        1636     Stage  Water Level   900.0  0.578  0.782   \n",
       "3180   River Cam        1724     Stage  Water Level   900.0  0.127  0.395   \n",
       "7308   Bin Brook        1792     Stage  Water Level   900.0  0.057  0.368   \n",
       "3673   River Cam        1724     Stage  Water Level   900.0  0.127  0.395   \n",
       "17269  River Cam        1636     Stage  Water Level   900.0  0.578  0.782   \n",
       "4880   River Cam        1724     Stage  Water Level   900.0  0.127  0.395   \n",
       "17990  River Cam        1636     Stage  Water Level   900.0  0.578  0.782   \n",
       "17115  River Cam        1636     Stage  Water Level   900.0  0.578  0.782   \n",
       "12820  River Cam         919     Stage  Water Level   900.0  0.026  0.600   \n",
       "2489   River Cam        1702     Stage  Water Level   900.0  0.637  0.740   \n",
       "13395  River Cam        1455     Stage  Water Level   900.0  0.218  0.294   \n",
       "3641   River Cam        1724     Stage  Water Level   900.0  0.127  0.395   \n",
       "3503   River Cam        1724     Stage  Water Level   900.0  0.127  0.395   \n",
       "12483  River Cam         919     Stage  Water Level   900.0  0.026  0.600   \n",
       "17729  River Cam        1636     Stage  Water Level   900.0  0.578  0.782   \n",
       "15825  River Cam        1455     Stage  Water Level   900.0  0.218  0.294   \n",
       "\n",
       "           valuetype                     t  value  \n",
       "12143  instantaneous  2017-08-23T08:30:00Z  0.067  \n",
       "13613  instantaneous  2017-08-10T17:15:00Z  0.240  \n",
       "1633   instantaneous  2017-08-24T05:00:00Z  0.676  \n",
       "1783   instantaneous  2017-08-25T08:00:00Z  0.669  \n",
       "16026  instantaneous  2017-08-08T13:00:00Z  0.809  \n",
       "3180   instantaneous  2017-08-12T20:45:00Z  0.101  \n",
       "7308   instantaneous  2017-08-28T05:45:00Z  0.148  \n",
       "3673   instantaneous  2017-08-17T11:45:00Z  0.099  \n",
       "17269  instantaneous  2017-08-21T17:15:00Z  0.797  \n",
       "4880   instantaneous  2017-08-30T00:30:00Z  0.082  \n",
       "17990  instantaneous  2017-08-29T00:15:00Z  0.789  \n",
       "17115  instantaneous  2017-08-20T04:00:00Z  0.791  \n",
       "12820  instantaneous  2017-08-30T15:15:00Z  0.067  \n",
       "2489   instantaneous  2017-09-01T18:00:00Z  0.662  \n",
       "13395  instantaneous  2017-08-08T17:30:00Z  0.261  \n",
       "3641   instantaneous  2017-08-17T06:30:00Z  0.092  \n",
       "3503   instantaneous  2017-08-15T13:00:00Z  0.091  \n",
       "12483  instantaneous  2017-08-27T00:15:00Z  0.058  \n",
       "17729  instantaneous  2017-08-25T22:45:00Z  0.790  \n",
       "15825  instantaneous  2017-09-02T19:15:00Z  0.253  "
      ]
     },
     "execution_count": 3,
     "metadata": {},
     "output_type": "execute_result"
    }
   ],
   "source": [
    "in_flood = pandas.read_csv('flood.csv')\n",
    "y = in_flood.iloc[np.random.choice(len(in_flood), size=20)]\n",
    "y"
   ]
  },
  {
   "cell_type": "code",
   "execution_count": 4,
   "metadata": {},
   "outputs": [
    {
     "name": "stdout",
     "output_type": "stream",
     "text": [
      "Correct!\n"
     ]
    },
    {
     "data": {
      "text/plain": [
       "True"
      ]
     },
     "execution_count": 4,
     "metadata": {},
     "output_type": "execute_result"
    }
   ],
   "source": [
    "flood = in_flood[in_flood['town']!='Cam']\n",
    "num_rows = len(flood)\n",
    "GRADER.submit_answer(GRADER.fetch_question('q1'), num_rows)"
   ]
  },
  {
   "cell_type": "markdown",
   "metadata": {},
   "source": [
    "## Question 2"
   ]
  },
  {
   "cell_type": "code",
   "execution_count": 5,
   "metadata": {
    "scrolled": true
   },
   "outputs": [
    {
     "name": "stderr",
     "output_type": "stream",
     "text": [
      "/home/yiyi/myPyEnv/lib/python3.6/site-packages/ipykernel_launcher.py:3: FutureWarning: Method .as_matrix will be removed in a future version. Use .values instead.\n",
      "  This is separate from the ipykernel package so we can avoid doing imports until\n"
     ]
    },
    {
     "name": "stdout",
     "output_type": "stream",
     "text": [
      "Correct!\n"
     ]
    },
    {
     "data": {
      "text/plain": [
       "True"
      ]
     },
     "execution_count": 5,
     "metadata": {},
     "output_type": "execute_result"
    }
   ],
   "source": [
    "townriver = flood.groupby(['river','town']).apply(len)\n",
    "townriver = townriver.unstack(fill_value=0).rename_axis(None,axis=0).rename_axis(None,axis=1)\n",
    "GRADER.submit_answer(GRADER.fetch_question('q2'), townriver.as_matrix())"
   ]
  },
  {
   "cell_type": "markdown",
   "metadata": {},
   "source": [
    "## Question 3"
   ]
  },
  {
   "cell_type": "code",
   "execution_count": 6,
   "metadata": {},
   "outputs": [
    {
     "name": "stderr",
     "output_type": "stream",
     "text": [
      "/home/yiyi/myPyEnv/lib/python3.6/site-packages/ipykernel_launcher.py:4: FutureWarning: Method .as_matrix will be removed in a future version. Use .values instead.\n",
      "  after removing the cwd from sys.path.\n"
     ]
    },
    {
     "name": "stdout",
     "output_type": "stream",
     "text": [
      "Correct!\n"
     ]
    },
    {
     "data": {
      "text/plain": [
       "True"
      ]
     },
     "execution_count": 6,
     "metadata": {},
     "output_type": "execute_result"
    }
   ],
   "source": [
    "rtl = flood.groupby(['river', 'town','label']).apply(len)\n",
    "measurement = rtl.groupby(['river','town']).apply(len)\n",
    "measurement = measurement.unstack(fill_value=0).rename_axis(None,axis=0).rename_axis(None,axis=1)\n",
    "GRADER.submit_answer(GRADER.fetch_question('q3'), measurement.as_matrix())"
   ]
  },
  {
   "cell_type": "markdown",
   "metadata": {},
   "source": [
    "## Qeustion 4"
   ]
  },
  {
   "cell_type": "code",
   "execution_count": 7,
   "metadata": {},
   "outputs": [
    {
     "name": "stderr",
     "output_type": "stream",
     "text": [
      "/home/yiyi/myPyEnv/lib/python3.6/site-packages/ipykernel_launcher.py:1: SettingWithCopyWarning: \n",
      "A value is trying to be set on a copy of a slice from a DataFrame.\n",
      "Try using .loc[row_indexer,col_indexer] = value instead\n",
      "\n",
      "See the caveats in the documentation: http://pandas.pydata.org/pandas-docs/stable/indexing.html#indexing-view-versus-copy\n",
      "  \"\"\"Entry point for launching an IPython kernel.\n"
     ]
    },
    {
     "name": "stdout",
     "output_type": "stream",
     "text": [
      "Correct!\n"
     ]
    },
    {
     "data": {
      "text/plain": [
       "True"
      ]
     },
     "execution_count": 7,
     "metadata": {},
     "output_type": "execute_result"
    }
   ],
   "source": [
    "flood['norm_value'] = (flood['value'] - flood['low']) / (flood['high'] - flood['low'])\n",
    "tercile = np.nanpercentile(flood['norm_value'], [100/3,200/3])\n",
    "GRADER.submit_answer(GRADER.fetch_question('q4'), [tercile[0], tercile[1]])"
   ]
  },
  {
   "cell_type": "code",
   "execution_count": 13,
   "metadata": {},
   "outputs": [
    {
     "data": {
      "text/plain": [
       "array([0.03697024, 0.31511254])"
      ]
     },
     "execution_count": 13,
     "metadata": {},
     "output_type": "execute_result"
    }
   ],
   "source": [
    "tercile"
   ]
  },
  {
   "cell_type": "markdown",
   "metadata": {},
   "source": [
    "## Qeustion 5"
   ]
  },
  {
   "cell_type": "code",
   "execution_count": 8,
   "metadata": {},
   "outputs": [
    {
     "name": "stderr",
     "output_type": "stream",
     "text": [
      "/home/yiyi/myPyEnv/lib/python3.6/site-packages/ipykernel_launcher.py:1: SettingWithCopyWarning: \n",
      "A value is trying to be set on a copy of a slice from a DataFrame.\n",
      "Try using .loc[row_indexer,col_indexer] = value instead\n",
      "\n",
      "See the caveats in the documentation: http://pandas.pydata.org/pandas-docs/stable/indexing.html#indexing-view-versus-copy\n",
      "  \"\"\"Entry point for launching an IPython kernel.\n",
      "/home/yiyi/myPyEnv/lib/python3.6/site-packages/ipykernel_launcher.py:2: SettingWithCopyWarning: \n",
      "A value is trying to be set on a copy of a slice from a DataFrame.\n",
      "Try using .loc[row_indexer,col_indexer] = value instead\n",
      "\n",
      "See the caveats in the documentation: http://pandas.pydata.org/pandas-docs/stable/indexing.html#indexing-view-versus-copy\n",
      "  \n",
      "/home/yiyi/myPyEnv/lib/python3.6/site-packages/ipykernel_launcher.py:3: SettingWithCopyWarning: \n",
      "A value is trying to be set on a copy of a slice from a DataFrame.\n",
      "Try using .loc[row_indexer,col_indexer] = value instead\n",
      "\n",
      "See the caveats in the documentation: http://pandas.pydata.org/pandas-docs/stable/indexing.html#indexing-view-versus-copy\n",
      "  This is separate from the ipykernel package so we can avoid doing imports until\n"
     ]
    },
    {
     "name": "stdout",
     "output_type": "stream",
     "text": [
      "Correct!\n"
     ]
    },
    {
     "data": {
      "text/plain": [
       "True"
      ]
     },
     "execution_count": 8,
     "metadata": {},
     "output_type": "execute_result"
    }
   ],
   "source": [
    "flood['norm_value_tercile'] = 'med'\n",
    "flood['norm_value_tercile'] = np.where((flood['norm_value'] <= tercile[0]),'low',flood['norm_value_tercile'])\n",
    "flood['norm_value_tercile'] = np.where((flood['norm_value'] > tercile[1]),'high',flood['norm_value_tercile'])\n",
    "\n",
    "containsavalidvalue = np.invert(flood['value'].isnull())\n",
    "flood = flood[containsavalidvalue]\n",
    "\n",
    "observation = flood.groupby(['label','norm_value_tercile']).apply(len)\n",
    "observation = observation.reset_index()\n",
    "observation.columns = ['label', 'norm_value_tercile', 'n']\n",
    "\n",
    "observation2 = flood.groupby(['label']).apply(len)\n",
    "observation2 = observation2.reset_index()\n",
    "observation2.columns = ['label', 'ntot']\n",
    "\n",
    "q5_dataframe = observation.merge(observation2, on='label')\n",
    "\n",
    "GRADER.submit_answer(GRADER.fetch_question('q5'), q5_dataframe)"
   ]
  },
  {
   "cell_type": "markdown",
   "metadata": {},
   "source": [
    "## Qeustion 6"
   ]
  },
  {
   "cell_type": "code",
   "execution_count": 9,
   "metadata": {},
   "outputs": [
    {
     "name": "stdout",
     "output_type": "stream",
     "text": [
      "Correct!\n"
     ]
    },
    {
     "data": {
      "text/plain": [
       "True"
      ]
     },
     "execution_count": 9,
     "metadata": {},
     "output_type": "execute_result"
    }
   ],
   "source": [
    "fraction = q5_dataframe.groupby(['label', 'norm_value_tercile']).apply(lambda df: np.mean(df['n']/df['ntot']))\n",
    "fraction = fraction.unstack(fill_value=0).reset_index()\n",
    "GRADER.submit_answer(GRADER.fetch_question('q6'), fraction)"
   ]
  },
  {
   "cell_type": "markdown",
   "metadata": {},
   "source": [
    "## Qeustion 7"
   ]
  },
  {
   "cell_type": "code",
   "execution_count": 10,
   "metadata": {},
   "outputs": [
    {
     "name": "stdout",
     "output_type": "stream",
     "text": [
      "Correct!\n"
     ]
    },
    {
     "data": {
      "text/plain": [
       "True"
      ]
     },
     "execution_count": 10,
     "metadata": {},
     "output_type": "execute_result"
    }
   ],
   "source": [
    "highlow = flood[['label','high','low']]\n",
    "highlow = highlow.drop_duplicates().reset_index()\n",
    "highlow = highlow.iloc[:,1:]\n",
    "\n",
    "highlow.groupby(['label']).apply(len)\n",
    "highlow.groupby(['label'])['high','low'].apply(lambda x: x.iloc[0]).unstack()\n",
    "\n",
    "highlow2 = pandas.melt(highlow, id_vars=['label'], var_name = 'ref', value_name = 'prop')\n",
    "highlow2 = highlow2.groupby(['label','ref']).apply(lambda df: np.mean(df['prop']))\n",
    "\n",
    "GRADER.submit_answer(GRADER.fetch_question('q7'), highlow2.reset_index(name='val'))"
   ]
  },
  {
   "cell_type": "markdown",
   "metadata": {},
   "source": [
    "# Part B\n",
    "## Question 8"
   ]
  },
  {
   "cell_type": "code",
   "execution_count": 11,
   "metadata": {},
   "outputs": [
    {
     "data": {
      "image/png": "[encoded data removed]",
      "text/plain": [
       "<Figure size 432x288 with 1 Axes>"
      ]
     },
     "metadata": {},
     "output_type": "display_data"
    }
   ],
   "source": [
    "label = fraction['label'].tolist()\n",
    "label.append('')\n",
    "low = fraction['low'].tolist()\n",
    "low.append(0)\n",
    "med = fraction['med'].tolist()\n",
    "med.append(0)\n",
    "lowmed = (fraction['low']+fraction['med']).tolist()\n",
    "lowmed.append(0)\n",
    "high = fraction['high'].tolist()\n",
    "high.append(0)\n",
    "\n",
    "# Draw grid lines behind other graph elements\n",
    "plt.rc('axes', axisbelow=True)\n",
    "plt.grid(axis=\"y\", zorder=0)\n",
    "\n",
    "plt.bar(label, low, color='#008066', label='low')\n",
    "plt.bar(label, med, bottom=low, color='#55AA66', label='med')\n",
    "plt.bar(label, high, bottom=lowmed, color='#AAD466', label='high')\n",
    "plt.legend(loc=[0.82, 0.6])\n",
    "\n",
    "locs, labels = plt.xticks()\n",
    "plt.setp(labels, rotation=-30,  ha='left')\n",
    "\n",
    "plt.title('Fraction of observations in each tercile')\n",
    "plt.show()"
   ]
  },
  {
   "cell_type": "markdown",
   "metadata": {},
   "source": [
    "## Question 9"
   ]
  },
  {
   "cell_type": "code",
   "execution_count": 14,
   "metadata": {},
   "outputs": [],
   "source": [
    "# Create a column with datetime objects\n",
    "import datetime\n",
    "import pytz\n",
    "import numpy as np\n",
    "import matplotlib.pyplot as plt\n",
    "import matplotlib.dates as mdates\n",
    "import matplotlib.cbook as cbook\n",
    "\n",
    "def as_datetime(s): return datetime.datetime.strptime(s, '%Y-%m-%dT%H:%M:%SZ').replace(tzinfo=pytz.UTC)\n",
    "flood['datetime'] = np.vectorize(as_datetime)(flood['t'])"
   ]
  },
  {
   "cell_type": "code",
   "execution_count": 23,
   "metadata": {},
   "outputs": [],
   "source": [
    "graphdf= highlow\n",
    "\n",
    "graphdf['ter1'] = graphdf['low']+(tercile[0]*(graphdf['high']-graphdf['low']))\n",
    "graphdf['ter2'] = graphdf['low']+(tercile[1]*(graphdf['high']-graphdf['low']))\n",
    "\n",
    "graphdf.sort_values(by=['label'],inplace=True)\n",
    "graphdf = graphdf.reset_index()"
   ]
  },
  {
   "cell_type": "code",
   "execution_count": 30,
   "metadata": {},
   "outputs": [
    {
     "name": "stderr",
     "output_type": "stream",
     "text": [
      "/home/yiyi/myPyEnv/lib/python3.6/site-packages/ipykernel_launcher.py:12: SettingWithCopyWarning: \n",
      "A value is trying to be set on a copy of a slice from a DataFrame\n",
      "\n",
      "See the caveats in the documentation: http://pandas.pydata.org/pandas-docs/stable/indexing.html#indexing-view-versus-copy\n",
      "  if sys.path[0] == '':\n"
     ]
    },
    {
     "data": {
      "image/png": "[encoded data removed]",
      "text/plain": [
       "<Figure size 1584x648 with 6 Axes>"
      ]
     },
     "metadata": {},
     "output_type": "display_data"
    }
   ],
   "source": [
    "f = plt.figure(figsize=(22,9))\n",
    "level = flood[['label','datetime','value']]\n",
    "\n",
    "for i in range(6):\n",
    "    ax = f.add_subplot(2,3,i+1)\n",
    "    label = graphdf['label'][i]\n",
    "    \n",
    "    #create a new dataframe consisting of the entries that pertain to the currently investigated dataframe\n",
    "    entries = level[np.where(level['label']==label,True, False)]\n",
    "    #sort the entries in terms of time which is necessary for an appropriate temporal progression to the\n",
    "    #time plitting\n",
    "    entries.sort_values(by=['datetime'],inplace=True)\n",
    "    values = entries['value'].tolist()\n",
    "    times = entries['datetime'].values\n",
    "    \n",
    "    #plot the line graph accordingly\n",
    "    plt.plot(times,values,animated=True,aa=True,color='#2F81B9')\n",
    "     \n",
    "    plt.title(label)\n",
    "    #plot the shaded regions\n",
    "    plt.axhspan(ymin=graphdf['ter1'][i], ymax=graphdf['ter2'][i], color='#D9D9D9')\n",
    "    plt.axhspan(ymin=graphdf['ter2'][i], ymax=graphdf['high'][i], color='#F2F2F2')\n",
    "    #convert the x axis labels into a convenient to interpret date format\n",
    "    ax.xaxis.set_major_locator(matplotlib.dates.WeekdayLocator(byweekday=matplotlib.dates.MO, tz=pytz.UTC))\n",
    "    ax.xaxis.set_minor_locator(matplotlib.dates.DayLocator(tz=pytz.UTC))\n",
    "    ax.xaxis.set_major_formatter(matplotlib.dates.DateFormatter('%a %d %b'))\n",
    "    \n",
    "    \n",
    "f.suptitle('Water levels')\n",
    "f.autofmt_xdate(bottom=0.2, rotation=-30, ha='left')"
   ]
  }
 ],
 "metadata": {
  "kernelspec": {
   "display_name": "Python 3",
   "language": "python",
   "name": "python3"
  },
  "language_info": {
   "codemirror_mode": {
    "name": "ipython",
    "version": 3
   },
   "file_extension": ".py",
   "mimetype": "text/x-python",
   "name": "python",
   "nbconvert_exporter": "python",
   "pygments_lexer": "ipython3",
   "version": "3.6.5"
  }
 },
 "nbformat": 4,
 "nbformat_minor": 2
}
